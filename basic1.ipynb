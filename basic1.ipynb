{
  "nbformat": 4,
  "nbformat_minor": 0,
  "metadata": {
    "colab": {
      "name": "basic1.ipynb",
      "provenance": [],
      "collapsed_sections": [],
      "authorship_tag": "ABX9TyOwEgBb8f+r3DOc4bkOaQWk",
      "include_colab_link": true
    },
    "kernelspec": {
      "name": "python3",
      "display_name": "Python 3"
    },
    "language_info": {
      "name": "python"
    }
  },
  "cells": [
    {
      "cell_type": "markdown",
      "metadata": {
        "id": "view-in-github",
        "colab_type": "text"
      },
      "source": [
        "<a href=\"https://colab.research.google.com/github/yusangmin/220603/blob/main/basic1.ipynb\" target=\"_parent\"><img src=\"https://colab.research.google.com/assets/colab-badge.svg\" alt=\"Open In Colab\"/></a>"
      ]
    },
    {
      "cell_type": "code",
      "execution_count": 1,
      "metadata": {
        "colab": {
          "base_uri": "https://localhost:8080/"
        },
        "id": "Aw32vfjk7GXw",
        "outputId": "6b9dc01d-3062-497d-8781-fab7f1e2922a"
      },
      "outputs": [
        {
          "output_type": "stream",
          "name": "stdout",
          "text": [
            "안녕 파이썬!\n"
          ]
        }
      ],
      "source": [
        "print(\"안녕 파이썬!\")"
      ]
    },
    {
      "cell_type": "markdown",
      "source": [
        "문자가 들어가는 것은 무조건 \"\" 또는 ''이 들어가야 한다."
      ],
      "metadata": {
        "id": "shXzaKqI_yXu"
      }
    },
    {
      "cell_type": "code",
      "source": [
        "print(5+5)"
      ],
      "metadata": {
        "colab": {
          "base_uri": "https://localhost:8080/"
        },
        "id": "QRkffZZx-nQo",
        "outputId": "891bb271-8c42-4205-e48f-123499bb7e2d"
      },
      "execution_count": 3,
      "outputs": [
        {
          "output_type": "stream",
          "name": "stdout",
          "text": [
            "10\n"
          ]
        }
      ]
    },
    {
      "cell_type": "markdown",
      "source": [
        "숫자가 들어가는 것은 숫자형이다. 더 자세히 이야기 하면 정수형과 실수형으로 나뉜다."
      ],
      "metadata": {
        "id": "BOUrrxn6_5M9"
      }
    },
    {
      "cell_type": "code",
      "source": [
        "print(\"3개의 정수값을 입력하시오.\")\n",
        "Int1 = int(input(\"첫번째 값을 입력하시오.: \"))\n",
        "Int2 = int(input(\"두번째 값을 입력하시오.: \"))\n",
        "Int3 = int(input(\"세번째 값을 입력하시오.: \"))\n",
        "print(Int1, Int2, Int3)\n",
        "sum = Int1 + Int2 + Int3\n",
        "print(sum)"
      ],
      "metadata": {
        "colab": {
          "base_uri": "https://localhost:8080/"
        },
        "id": "16aWKvhJ_4O1",
        "outputId": "195f4b6a-2409-41a6-ed5a-222e28f4a462"
      },
      "execution_count": 4,
      "outputs": [
        {
          "output_type": "stream",
          "name": "stdout",
          "text": [
            "3개의 정수값을 입력하시오.\n",
            "첫번째 값을 입력하시오.: 5\n",
            "두번째 값을 입력하시오.: 4\n",
            "세번째 값을 입력하시오.: 2\n",
            "5 4 2\n",
            "11\n"
          ]
        }
      ]
    },
    {
      "cell_type": "code",
      "source": [
        "total = 0;\n",
        "counter = 1;\n",
        "while counter <= 10:\n",
        "   grade = int(input(\"점수를 입력하시오.: \"));\n",
        "   total = grade + total;\n",
        "   counter = counter + 1;\n",
        "ever = total / 5;\n",
        "print(ever);"
      ],
      "metadata": {
        "id": "YPaB-x7UC0l6"
      },
      "execution_count": null,
      "outputs": []
    },
    {
      "cell_type": "code",
      "source": [
        "pay_rate = int(input(\"시급을 입력하시오. 2022년 6월기준 9160원:\"))\n",
        "hour_work = int(input(\"일한 시간을 입력하시오.: \"))\n",
        "mon_pay = pay_rate * hour_work\n",
        "print(mon_pay)"
      ],
      "metadata": {
        "id": "o2UI6Z58MHlW"
      },
      "execution_count": null,
      "outputs": []
    }
  ]
}